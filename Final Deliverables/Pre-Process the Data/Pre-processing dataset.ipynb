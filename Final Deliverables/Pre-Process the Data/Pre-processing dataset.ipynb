{
  "nbformat": 4,
  "nbformat_minor": 0,
  "metadata": {
    "colab": {
      "provenance": []
    },
    "kernelspec": {
      "name": "python3",
      "display_name": "Python 3"
    },
    "language_info": {
      "name": "python"
    }
  },
  "cells": [
    {
      "cell_type": "markdown",
      "source": [
        "# **Import Libraries**"
      ],
      "metadata": {
        "id": "2d6W-93AHvs7"
      }
    },
    {
      "cell_type": "code",
      "execution_count": 1,
      "metadata": {
        "id": "KHk6h-hGFCbG"
      },
      "outputs": [],
      "source": [
        "import pandas as pd\n",
        "import numpy as np\n",
        "import matplotlib as plt\n",
        "from sklearn.preprocessing import LabelEncoder\n",
        "import pickle"
      ]
    },
    {
      "cell_type": "markdown",
      "source": [
        "# **Import Dataset**"
      ],
      "metadata": {
        "id": "r8ErvYABH2dc"
      }
    },
    {
      "cell_type": "code",
      "source": [
        "df=pd.read_csv(\"Car Data Set.csv\", header=0, sep=',', encoding='Latin1',)"
      ],
      "metadata": {
        "id": "_17e3cHjFI6Q"
      },
      "execution_count": 31,
      "outputs": []
    },
    {
      "cell_type": "markdown",
      "source": [
        "# **Read Dataset**"
      ],
      "metadata": {
        "id": "d1vS0J4NID-W"
      }
    },
    {
      "cell_type": "code",
      "source": [
        "df.head()"
      ],
      "metadata": {
        "colab": {
          "base_uri": "https://localhost:8080/",
          "height": 206
        },
        "id": "CKeXHinhFT9E",
        "outputId": "e0a8e77c-a3c3-4514-fe83-12bf2cac8533"
      },
      "execution_count": 32,
      "outputs": [
        {
          "output_type": "execute_result",
          "data": {
            "text/plain": [
              "   ï»¿S.No                                       Name Location  Year  \\\n",
              "0        1  Toyota Innova Crysta Touring Sport 2.4 MT   Mumbai  2017   \n",
              "1        2                 Toyota Etios Cross 1.4L VD  Chennai  2014   \n",
              "2        3               Skoda Rapid 1.6 MPI AT Style   Mumbai  2017   \n",
              "3        4              BMW 5 Series 520d Luxury Line   Mumbai  2012   \n",
              "4        5               Skoda Rapid 1.6 MPI Ambition   Jaipur  2018   \n",
              "\n",
              "   Kilometers_Driven Fuel_Type Transmission Owner_Type     Mileage   Engine  \\\n",
              "0              34000    Diesel       Manual      First  13.68 kmpl  2393 CC   \n",
              "1              70000    Diesel       Manual     Second  23.59 kmpl  1364 CC   \n",
              "2              13500    Petrol    Automatic      First  14.84 kmpl  1598 CC   \n",
              "3              66889    Diesel    Automatic      First  22.48 kmpl  1995 CC   \n",
              "4               4000    Petrol       Manual      First  15.41 kmpl  1598 CC   \n",
              "\n",
              "   Power  Seats   New_Price  \n",
              "0    147      7  25.27 Lakh  \n",
              "1     67      5   9.27 Lakh  \n",
              "2    103      5  14.95 Lakh  \n",
              "3    190      5  70.43 Lakh  \n",
              "4    103      5  11.89 Lakh  "
            ],
            "text/html": [
              "\n",
              "  <div id=\"df-9c4f2631-e3e7-4002-b010-3b77afe140b9\">\n",
              "    <div class=\"colab-df-container\">\n",
              "      <div>\n",
              "<style scoped>\n",
              "    .dataframe tbody tr th:only-of-type {\n",
              "        vertical-align: middle;\n",
              "    }\n",
              "\n",
              "    .dataframe tbody tr th {\n",
              "        vertical-align: top;\n",
              "    }\n",
              "\n",
              "    .dataframe thead th {\n",
              "        text-align: right;\n",
              "    }\n",
              "</style>\n",
              "<table border=\"1\" class=\"dataframe\">\n",
              "  <thead>\n",
              "    <tr style=\"text-align: right;\">\n",
              "      <th></th>\n",
              "      <th>ï»¿S.No</th>\n",
              "      <th>Name</th>\n",
              "      <th>Location</th>\n",
              "      <th>Year</th>\n",
              "      <th>Kilometers_Driven</th>\n",
              "      <th>Fuel_Type</th>\n",
              "      <th>Transmission</th>\n",
              "      <th>Owner_Type</th>\n",
              "      <th>Mileage</th>\n",
              "      <th>Engine</th>\n",
              "      <th>Power</th>\n",
              "      <th>Seats</th>\n",
              "      <th>New_Price</th>\n",
              "    </tr>\n",
              "  </thead>\n",
              "  <tbody>\n",
              "    <tr>\n",
              "      <th>0</th>\n",
              "      <td>1</td>\n",
              "      <td>Toyota Innova Crysta Touring Sport 2.4 MT</td>\n",
              "      <td>Mumbai</td>\n",
              "      <td>2017</td>\n",
              "      <td>34000</td>\n",
              "      <td>Diesel</td>\n",
              "      <td>Manual</td>\n",
              "      <td>First</td>\n",
              "      <td>13.68 kmpl</td>\n",
              "      <td>2393 CC</td>\n",
              "      <td>147</td>\n",
              "      <td>7</td>\n",
              "      <td>25.27 Lakh</td>\n",
              "    </tr>\n",
              "    <tr>\n",
              "      <th>1</th>\n",
              "      <td>2</td>\n",
              "      <td>Toyota Etios Cross 1.4L VD</td>\n",
              "      <td>Chennai</td>\n",
              "      <td>2014</td>\n",
              "      <td>70000</td>\n",
              "      <td>Diesel</td>\n",
              "      <td>Manual</td>\n",
              "      <td>Second</td>\n",
              "      <td>23.59 kmpl</td>\n",
              "      <td>1364 CC</td>\n",
              "      <td>67</td>\n",
              "      <td>5</td>\n",
              "      <td>9.27 Lakh</td>\n",
              "    </tr>\n",
              "    <tr>\n",
              "      <th>2</th>\n",
              "      <td>3</td>\n",
              "      <td>Skoda Rapid 1.6 MPI AT Style</td>\n",
              "      <td>Mumbai</td>\n",
              "      <td>2017</td>\n",
              "      <td>13500</td>\n",
              "      <td>Petrol</td>\n",
              "      <td>Automatic</td>\n",
              "      <td>First</td>\n",
              "      <td>14.84 kmpl</td>\n",
              "      <td>1598 CC</td>\n",
              "      <td>103</td>\n",
              "      <td>5</td>\n",
              "      <td>14.95 Lakh</td>\n",
              "    </tr>\n",
              "    <tr>\n",
              "      <th>3</th>\n",
              "      <td>4</td>\n",
              "      <td>BMW 5 Series 520d Luxury Line</td>\n",
              "      <td>Mumbai</td>\n",
              "      <td>2012</td>\n",
              "      <td>66889</td>\n",
              "      <td>Diesel</td>\n",
              "      <td>Automatic</td>\n",
              "      <td>First</td>\n",
              "      <td>22.48 kmpl</td>\n",
              "      <td>1995 CC</td>\n",
              "      <td>190</td>\n",
              "      <td>5</td>\n",
              "      <td>70.43 Lakh</td>\n",
              "    </tr>\n",
              "    <tr>\n",
              "      <th>4</th>\n",
              "      <td>5</td>\n",
              "      <td>Skoda Rapid 1.6 MPI Ambition</td>\n",
              "      <td>Jaipur</td>\n",
              "      <td>2018</td>\n",
              "      <td>4000</td>\n",
              "      <td>Petrol</td>\n",
              "      <td>Manual</td>\n",
              "      <td>First</td>\n",
              "      <td>15.41 kmpl</td>\n",
              "      <td>1598 CC</td>\n",
              "      <td>103</td>\n",
              "      <td>5</td>\n",
              "      <td>11.89 Lakh</td>\n",
              "    </tr>\n",
              "  </tbody>\n",
              "</table>\n",
              "</div>\n",
              "      <button class=\"colab-df-convert\" onclick=\"convertToInteractive('df-9c4f2631-e3e7-4002-b010-3b77afe140b9')\"\n",
              "              title=\"Convert this dataframe to an interactive table.\"\n",
              "              style=\"display:none;\">\n",
              "        \n",
              "  <svg xmlns=\"http://www.w3.org/2000/svg\" height=\"24px\"viewBox=\"0 0 24 24\"\n",
              "       width=\"24px\">\n",
              "    <path d=\"M0 0h24v24H0V0z\" fill=\"none\"/>\n",
              "    <path d=\"M18.56 5.44l.94 2.06.94-2.06 2.06-.94-2.06-.94-.94-2.06-.94 2.06-2.06.94zm-11 1L8.5 8.5l.94-2.06 2.06-.94-2.06-.94L8.5 2.5l-.94 2.06-2.06.94zm10 10l.94 2.06.94-2.06 2.06-.94-2.06-.94-.94-2.06-.94 2.06-2.06.94z\"/><path d=\"M17.41 7.96l-1.37-1.37c-.4-.4-.92-.59-1.43-.59-.52 0-1.04.2-1.43.59L10.3 9.45l-7.72 7.72c-.78.78-.78 2.05 0 2.83L4 21.41c.39.39.9.59 1.41.59.51 0 1.02-.2 1.41-.59l7.78-7.78 2.81-2.81c.8-.78.8-2.07 0-2.86zM5.41 20L4 18.59l7.72-7.72 1.47 1.35L5.41 20z\"/>\n",
              "  </svg>\n",
              "      </button>\n",
              "      \n",
              "  <style>\n",
              "    .colab-df-container {\n",
              "      display:flex;\n",
              "      flex-wrap:wrap;\n",
              "      gap: 12px;\n",
              "    }\n",
              "\n",
              "    .colab-df-convert {\n",
              "      background-color: #E8F0FE;\n",
              "      border: none;\n",
              "      border-radius: 50%;\n",
              "      cursor: pointer;\n",
              "      display: none;\n",
              "      fill: #1967D2;\n",
              "      height: 32px;\n",
              "      padding: 0 0 0 0;\n",
              "      width: 32px;\n",
              "    }\n",
              "\n",
              "    .colab-df-convert:hover {\n",
              "      background-color: #E2EBFA;\n",
              "      box-shadow: 0px 1px 2px rgba(60, 64, 67, 0.3), 0px 1px 3px 1px rgba(60, 64, 67, 0.15);\n",
              "      fill: #174EA6;\n",
              "    }\n",
              "\n",
              "    [theme=dark] .colab-df-convert {\n",
              "      background-color: #3B4455;\n",
              "      fill: #D2E3FC;\n",
              "    }\n",
              "\n",
              "    [theme=dark] .colab-df-convert:hover {\n",
              "      background-color: #434B5C;\n",
              "      box-shadow: 0px 1px 3px 1px rgba(0, 0, 0, 0.15);\n",
              "      filter: drop-shadow(0px 1px 2px rgba(0, 0, 0, 0.3));\n",
              "      fill: #FFFFFF;\n",
              "    }\n",
              "  </style>\n",
              "\n",
              "      <script>\n",
              "        const buttonEl =\n",
              "          document.querySelector('#df-9c4f2631-e3e7-4002-b010-3b77afe140b9 button.colab-df-convert');\n",
              "        buttonEl.style.display =\n",
              "          google.colab.kernel.accessAllowed ? 'block' : 'none';\n",
              "\n",
              "        async function convertToInteractive(key) {\n",
              "          const element = document.querySelector('#df-9c4f2631-e3e7-4002-b010-3b77afe140b9');\n",
              "          const dataTable =\n",
              "            await google.colab.kernel.invokeFunction('convertToInteractive',\n",
              "                                                     [key], {});\n",
              "          if (!dataTable) return;\n",
              "\n",
              "          const docLinkHtml = 'Like what you see? Visit the ' +\n",
              "            '<a target=\"_blank\" href=https://colab.research.google.com/notebooks/data_table.ipynb>data table notebook</a>'\n",
              "            + ' to learn more about interactive tables.';\n",
              "          element.innerHTML = '';\n",
              "          dataTable['output_type'] = 'display_data';\n",
              "          await google.colab.output.renderOutput(dataTable, element);\n",
              "          const docLink = document.createElement('div');\n",
              "          docLink.innerHTML = docLinkHtml;\n",
              "          element.appendChild(docLink);\n",
              "        }\n",
              "      </script>\n",
              "    </div>\n",
              "  </div>\n",
              "  "
            ]
          },
          "metadata": {},
          "execution_count": 32
        }
      ]
    },
    {
      "cell_type": "code",
      "source": [
        "df.shape"
      ],
      "metadata": {
        "colab": {
          "base_uri": "https://localhost:8080/"
        },
        "id": "FIK6G9DyFZTR",
        "outputId": "ceedfe59-a25f-4a25-9c74-b4be0808a6cf"
      },
      "execution_count": 33,
      "outputs": [
        {
          "output_type": "execute_result",
          "data": {
            "text/plain": [
              "(182, 13)"
            ]
          },
          "metadata": {},
          "execution_count": 33
        }
      ]
    },
    {
      "cell_type": "code",
      "source": [
        "print(df.Name.value_counts())"
      ],
      "metadata": {
        "colab": {
          "base_uri": "https://localhost:8080/"
        },
        "id": "4C4sDMYUKML0",
        "outputId": "92f8da1f-5d38-4a85-8309-83e5b6487d54"
      },
      "execution_count": 34,
      "outputs": [
        {
          "output_type": "stream",
          "name": "stdout",
          "text": [
            "Mitsubishi Pajero Sport 4X2 AT    6\n",
            "Maruti Vitara Brezza ZDi          4\n",
            "Maruti Alto K10 VXI               4\n",
            "Maruti Wagon R LXI                4\n",
            "Honda Brio 1.2 S MT               3\n",
            "                                 ..\n",
            "Audi A4 35 TDI Technology         1\n",
            "Tata Tiago 1.2 Revotron XZ        1\n",
            "Nissan Micra Active XV            1\n",
            "Toyota Fortuner 2.8 2WD MT        1\n",
            "Hyundai Elite i20 Magna Plus      1\n",
            "Name: Name, Length: 143, dtype: int64\n"
          ]
        }
      ]
    },
    {
      "cell_type": "code",
      "source": [
        "df[df.Name != 'Mitsubishi Pajero Sport 4X2 AT']"
      ],
      "metadata": {
        "colab": {
          "base_uri": "https://localhost:8080/",
          "height": 424
        },
        "id": "drLTnCkUKRuJ",
        "outputId": "1bf8b8f4-cc18-4332-91b7-5bf8bf0632fd"
      },
      "execution_count": 35,
      "outputs": [
        {
          "output_type": "execute_result",
          "data": {
            "text/plain": [
              "     ï»¿S.No                                       Name Location  Year  \\\n",
              "0          1  Toyota Innova Crysta Touring Sport 2.4 MT   Mumbai  2017   \n",
              "1          2                 Toyota Etios Cross 1.4L VD  Chennai  2014   \n",
              "2          3               Skoda Rapid 1.6 MPI AT Style   Mumbai  2017   \n",
              "3          4              BMW 5 Series 520d Luxury Line   Mumbai  2012   \n",
              "4          5               Skoda Rapid 1.6 MPI Ambition   Jaipur  2018   \n",
              "..       ...                                        ...      ...   ...   \n",
              "177      178         Tata Tiago 1.05 Revotorq XT Option     Pune  2016   \n",
              "178      179          Ford EcoSport 1.5 Petrol Ambiente    Kochi  2017   \n",
              "179      180                     Jeep Compass 1.4 Sport   Mumbai  2018   \n",
              "180      181                   Maruti Vitara Brezza ZDi    Kochi  2017   \n",
              "181      182               Hyundai Elite i20 Magna Plus    Kochi  2018   \n",
              "\n",
              "     Kilometers_Driven Fuel_Type Transmission Owner_Type     Mileage   Engine  \\\n",
              "0                34000    Diesel       Manual      First  13.68 kmpl  2393 CC   \n",
              "1                70000    Diesel       Manual     Second  23.59 kmpl  1364 CC   \n",
              "2                13500    Petrol    Automatic      First  14.84 kmpl  1598 CC   \n",
              "3                66889    Diesel    Automatic      First  22.48 kmpl  1995 CC   \n",
              "4                 4000    Petrol       Manual      First  15.41 kmpl  1598 CC   \n",
              "..                 ...       ...          ...        ...         ...      ...   \n",
              "177              41413    Diesel       Manual      First  27.28 kmpl  1047 CC   \n",
              "178              39015    Petrol       Manual      First   17.0 kmpl  1497 CC   \n",
              "179               6000    Petrol       Manual      First   16.0 kmpl  1368 CC   \n",
              "180              21380    Diesel       Manual      First   24.3 kmpl  1248 CC   \n",
              "181              23955    Petrol       Manual      First   18.6 kmpl  1197 CC   \n",
              "\n",
              "     Power  Seats   New_Price  \n",
              "0      147      7  25.27 Lakh  \n",
              "1       67      5   9.27 Lakh  \n",
              "2      103      5  14.95 Lakh  \n",
              "3      190      5  70.43 Lakh  \n",
              "4      103      5  11.89 Lakh  \n",
              "..     ...    ...         ...  \n",
              "177     69      5   7.06 Lakh  \n",
              "178    121      5   8.79 Lakh  \n",
              "179    160      5  18.16 Lakh  \n",
              "180     89      5  10.57 Lakh  \n",
              "181     82      5   7.08 Lakh  \n",
              "\n",
              "[176 rows x 13 columns]"
            ],
            "text/html": [
              "\n",
              "  <div id=\"df-3baa2560-b270-46de-977b-60964ed2bf35\">\n",
              "    <div class=\"colab-df-container\">\n",
              "      <div>\n",
              "<style scoped>\n",
              "    .dataframe tbody tr th:only-of-type {\n",
              "        vertical-align: middle;\n",
              "    }\n",
              "\n",
              "    .dataframe tbody tr th {\n",
              "        vertical-align: top;\n",
              "    }\n",
              "\n",
              "    .dataframe thead th {\n",
              "        text-align: right;\n",
              "    }\n",
              "</style>\n",
              "<table border=\"1\" class=\"dataframe\">\n",
              "  <thead>\n",
              "    <tr style=\"text-align: right;\">\n",
              "      <th></th>\n",
              "      <th>ï»¿S.No</th>\n",
              "      <th>Name</th>\n",
              "      <th>Location</th>\n",
              "      <th>Year</th>\n",
              "      <th>Kilometers_Driven</th>\n",
              "      <th>Fuel_Type</th>\n",
              "      <th>Transmission</th>\n",
              "      <th>Owner_Type</th>\n",
              "      <th>Mileage</th>\n",
              "      <th>Engine</th>\n",
              "      <th>Power</th>\n",
              "      <th>Seats</th>\n",
              "      <th>New_Price</th>\n",
              "    </tr>\n",
              "  </thead>\n",
              "  <tbody>\n",
              "    <tr>\n",
              "      <th>0</th>\n",
              "      <td>1</td>\n",
              "      <td>Toyota Innova Crysta Touring Sport 2.4 MT</td>\n",
              "      <td>Mumbai</td>\n",
              "      <td>2017</td>\n",
              "      <td>34000</td>\n",
              "      <td>Diesel</td>\n",
              "      <td>Manual</td>\n",
              "      <td>First</td>\n",
              "      <td>13.68 kmpl</td>\n",
              "      <td>2393 CC</td>\n",
              "      <td>147</td>\n",
              "      <td>7</td>\n",
              "      <td>25.27 Lakh</td>\n",
              "    </tr>\n",
              "    <tr>\n",
              "      <th>1</th>\n",
              "      <td>2</td>\n",
              "      <td>Toyota Etios Cross 1.4L VD</td>\n",
              "      <td>Chennai</td>\n",
              "      <td>2014</td>\n",
              "      <td>70000</td>\n",
              "      <td>Diesel</td>\n",
              "      <td>Manual</td>\n",
              "      <td>Second</td>\n",
              "      <td>23.59 kmpl</td>\n",
              "      <td>1364 CC</td>\n",
              "      <td>67</td>\n",
              "      <td>5</td>\n",
              "      <td>9.27 Lakh</td>\n",
              "    </tr>\n",
              "    <tr>\n",
              "      <th>2</th>\n",
              "      <td>3</td>\n",
              "      <td>Skoda Rapid 1.6 MPI AT Style</td>\n",
              "      <td>Mumbai</td>\n",
              "      <td>2017</td>\n",
              "      <td>13500</td>\n",
              "      <td>Petrol</td>\n",
              "      <td>Automatic</td>\n",
              "      <td>First</td>\n",
              "      <td>14.84 kmpl</td>\n",
              "      <td>1598 CC</td>\n",
              "      <td>103</td>\n",
              "      <td>5</td>\n",
              "      <td>14.95 Lakh</td>\n",
              "    </tr>\n",
              "    <tr>\n",
              "      <th>3</th>\n",
              "      <td>4</td>\n",
              "      <td>BMW 5 Series 520d Luxury Line</td>\n",
              "      <td>Mumbai</td>\n",
              "      <td>2012</td>\n",
              "      <td>66889</td>\n",
              "      <td>Diesel</td>\n",
              "      <td>Automatic</td>\n",
              "      <td>First</td>\n",
              "      <td>22.48 kmpl</td>\n",
              "      <td>1995 CC</td>\n",
              "      <td>190</td>\n",
              "      <td>5</td>\n",
              "      <td>70.43 Lakh</td>\n",
              "    </tr>\n",
              "    <tr>\n",
              "      <th>4</th>\n",
              "      <td>5</td>\n",
              "      <td>Skoda Rapid 1.6 MPI Ambition</td>\n",
              "      <td>Jaipur</td>\n",
              "      <td>2018</td>\n",
              "      <td>4000</td>\n",
              "      <td>Petrol</td>\n",
              "      <td>Manual</td>\n",
              "      <td>First</td>\n",
              "      <td>15.41 kmpl</td>\n",
              "      <td>1598 CC</td>\n",
              "      <td>103</td>\n",
              "      <td>5</td>\n",
              "      <td>11.89 Lakh</td>\n",
              "    </tr>\n",
              "    <tr>\n",
              "      <th>...</th>\n",
              "      <td>...</td>\n",
              "      <td>...</td>\n",
              "      <td>...</td>\n",
              "      <td>...</td>\n",
              "      <td>...</td>\n",
              "      <td>...</td>\n",
              "      <td>...</td>\n",
              "      <td>...</td>\n",
              "      <td>...</td>\n",
              "      <td>...</td>\n",
              "      <td>...</td>\n",
              "      <td>...</td>\n",
              "      <td>...</td>\n",
              "    </tr>\n",
              "    <tr>\n",
              "      <th>177</th>\n",
              "      <td>178</td>\n",
              "      <td>Tata Tiago 1.05 Revotorq XT Option</td>\n",
              "      <td>Pune</td>\n",
              "      <td>2016</td>\n",
              "      <td>41413</td>\n",
              "      <td>Diesel</td>\n",
              "      <td>Manual</td>\n",
              "      <td>First</td>\n",
              "      <td>27.28 kmpl</td>\n",
              "      <td>1047 CC</td>\n",
              "      <td>69</td>\n",
              "      <td>5</td>\n",
              "      <td>7.06 Lakh</td>\n",
              "    </tr>\n",
              "    <tr>\n",
              "      <th>178</th>\n",
              "      <td>179</td>\n",
              "      <td>Ford EcoSport 1.5 Petrol Ambiente</td>\n",
              "      <td>Kochi</td>\n",
              "      <td>2017</td>\n",
              "      <td>39015</td>\n",
              "      <td>Petrol</td>\n",
              "      <td>Manual</td>\n",
              "      <td>First</td>\n",
              "      <td>17.0 kmpl</td>\n",
              "      <td>1497 CC</td>\n",
              "      <td>121</td>\n",
              "      <td>5</td>\n",
              "      <td>8.79 Lakh</td>\n",
              "    </tr>\n",
              "    <tr>\n",
              "      <th>179</th>\n",
              "      <td>180</td>\n",
              "      <td>Jeep Compass 1.4 Sport</td>\n",
              "      <td>Mumbai</td>\n",
              "      <td>2018</td>\n",
              "      <td>6000</td>\n",
              "      <td>Petrol</td>\n",
              "      <td>Manual</td>\n",
              "      <td>First</td>\n",
              "      <td>16.0 kmpl</td>\n",
              "      <td>1368 CC</td>\n",
              "      <td>160</td>\n",
              "      <td>5</td>\n",
              "      <td>18.16 Lakh</td>\n",
              "    </tr>\n",
              "    <tr>\n",
              "      <th>180</th>\n",
              "      <td>181</td>\n",
              "      <td>Maruti Vitara Brezza ZDi</td>\n",
              "      <td>Kochi</td>\n",
              "      <td>2017</td>\n",
              "      <td>21380</td>\n",
              "      <td>Diesel</td>\n",
              "      <td>Manual</td>\n",
              "      <td>First</td>\n",
              "      <td>24.3 kmpl</td>\n",
              "      <td>1248 CC</td>\n",
              "      <td>89</td>\n",
              "      <td>5</td>\n",
              "      <td>10.57 Lakh</td>\n",
              "    </tr>\n",
              "    <tr>\n",
              "      <th>181</th>\n",
              "      <td>182</td>\n",
              "      <td>Hyundai Elite i20 Magna Plus</td>\n",
              "      <td>Kochi</td>\n",
              "      <td>2018</td>\n",
              "      <td>23955</td>\n",
              "      <td>Petrol</td>\n",
              "      <td>Manual</td>\n",
              "      <td>First</td>\n",
              "      <td>18.6 kmpl</td>\n",
              "      <td>1197 CC</td>\n",
              "      <td>82</td>\n",
              "      <td>5</td>\n",
              "      <td>7.08 Lakh</td>\n",
              "    </tr>\n",
              "  </tbody>\n",
              "</table>\n",
              "<p>176 rows × 13 columns</p>\n",
              "</div>\n",
              "      <button class=\"colab-df-convert\" onclick=\"convertToInteractive('df-3baa2560-b270-46de-977b-60964ed2bf35')\"\n",
              "              title=\"Convert this dataframe to an interactive table.\"\n",
              "              style=\"display:none;\">\n",
              "        \n",
              "  <svg xmlns=\"http://www.w3.org/2000/svg\" height=\"24px\"viewBox=\"0 0 24 24\"\n",
              "       width=\"24px\">\n",
              "    <path d=\"M0 0h24v24H0V0z\" fill=\"none\"/>\n",
              "    <path d=\"M18.56 5.44l.94 2.06.94-2.06 2.06-.94-2.06-.94-.94-2.06-.94 2.06-2.06.94zm-11 1L8.5 8.5l.94-2.06 2.06-.94-2.06-.94L8.5 2.5l-.94 2.06-2.06.94zm10 10l.94 2.06.94-2.06 2.06-.94-2.06-.94-.94-2.06-.94 2.06-2.06.94z\"/><path d=\"M17.41 7.96l-1.37-1.37c-.4-.4-.92-.59-1.43-.59-.52 0-1.04.2-1.43.59L10.3 9.45l-7.72 7.72c-.78.78-.78 2.05 0 2.83L4 21.41c.39.39.9.59 1.41.59.51 0 1.02-.2 1.41-.59l7.78-7.78 2.81-2.81c.8-.78.8-2.07 0-2.86zM5.41 20L4 18.59l7.72-7.72 1.47 1.35L5.41 20z\"/>\n",
              "  </svg>\n",
              "      </button>\n",
              "      \n",
              "  <style>\n",
              "    .colab-df-container {\n",
              "      display:flex;\n",
              "      flex-wrap:wrap;\n",
              "      gap: 12px;\n",
              "    }\n",
              "\n",
              "    .colab-df-convert {\n",
              "      background-color: #E8F0FE;\n",
              "      border: none;\n",
              "      border-radius: 50%;\n",
              "      cursor: pointer;\n",
              "      display: none;\n",
              "      fill: #1967D2;\n",
              "      height: 32px;\n",
              "      padding: 0 0 0 0;\n",
              "      width: 32px;\n",
              "    }\n",
              "\n",
              "    .colab-df-convert:hover {\n",
              "      background-color: #E2EBFA;\n",
              "      box-shadow: 0px 1px 2px rgba(60, 64, 67, 0.3), 0px 1px 3px 1px rgba(60, 64, 67, 0.15);\n",
              "      fill: #174EA6;\n",
              "    }\n",
              "\n",
              "    [theme=dark] .colab-df-convert {\n",
              "      background-color: #3B4455;\n",
              "      fill: #D2E3FC;\n",
              "    }\n",
              "\n",
              "    [theme=dark] .colab-df-convert:hover {\n",
              "      background-color: #434B5C;\n",
              "      box-shadow: 0px 1px 3px 1px rgba(0, 0, 0, 0.15);\n",
              "      filter: drop-shadow(0px 1px 2px rgba(0, 0, 0, 0.3));\n",
              "      fill: #FFFFFF;\n",
              "    }\n",
              "  </style>\n",
              "\n",
              "      <script>\n",
              "        const buttonEl =\n",
              "          document.querySelector('#df-3baa2560-b270-46de-977b-60964ed2bf35 button.colab-df-convert');\n",
              "        buttonEl.style.display =\n",
              "          google.colab.kernel.accessAllowed ? 'block' : 'none';\n",
              "\n",
              "        async function convertToInteractive(key) {\n",
              "          const element = document.querySelector('#df-3baa2560-b270-46de-977b-60964ed2bf35');\n",
              "          const dataTable =\n",
              "            await google.colab.kernel.invokeFunction('convertToInteractive',\n",
              "                                                     [key], {});\n",
              "          if (!dataTable) return;\n",
              "\n",
              "          const docLinkHtml = 'Like what you see? Visit the ' +\n",
              "            '<a target=\"_blank\" href=https://colab.research.google.com/notebooks/data_table.ipynb>data table notebook</a>'\n",
              "            + ' to learn more about interactive tables.';\n",
              "          element.innerHTML = '';\n",
              "          dataTable['output_type'] = 'display_data';\n",
              "          await google.colab.output.renderOutput(dataTable, element);\n",
              "          const docLink = document.createElement('div');\n",
              "          docLink.innerHTML = docLinkHtml;\n",
              "          element.appendChild(docLink);\n",
              "        }\n",
              "      </script>\n",
              "    </div>\n",
              "  </div>\n",
              "  "
            ]
          },
          "metadata": {},
          "execution_count": 35
        }
      ]
    },
    {
      "cell_type": "code",
      "source": [
        "df=df.drop('Name',axis=1)"
      ],
      "metadata": {
        "id": "0jYi-cjJKu2X"
      },
      "execution_count": 36,
      "outputs": []
    },
    {
      "cell_type": "markdown",
      "source": [
        "# **Cleaning The Dataset**"
      ],
      "metadata": {
        "id": "HFUHZp5lK1yU"
      }
    },
    {
      "cell_type": "code",
      "source": [
        "print(df.Transmission.value_counts())"
      ],
      "metadata": {
        "colab": {
          "base_uri": "https://localhost:8080/"
        },
        "id": "EYhu64jsK5UK",
        "outputId": "ca10f91c-ac1e-4fc9-d9be-6e6849f83d90"
      },
      "execution_count": 37,
      "outputs": [
        {
          "output_type": "stream",
          "name": "stdout",
          "text": [
            "Manual       118\n",
            "Automatic     64\n",
            "Name: Transmission, dtype: int64\n"
          ]
        }
      ]
    },
    {
      "cell_type": "code",
      "source": [
        "df[df.Transmission != 'Manual']"
      ],
      "metadata": {
        "colab": {
          "base_uri": "https://localhost:8080/",
          "height": 655
        },
        "id": "66LdtkBkLC7B",
        "outputId": "4fc156f5-439b-4802-8018-8754b5eaad44"
      },
      "execution_count": 38,
      "outputs": [
        {
          "output_type": "execute_result",
          "data": {
            "text/plain": [
              "     ï»¿S.No    Location  Year  Kilometers_Driven Fuel_Type Transmission  \\\n",
              "2          3      Mumbai  2017              13500    Petrol    Automatic   \n",
              "3          4      Mumbai  2012              66889    Diesel    Automatic   \n",
              "9         10      Mumbai  2017              14000    Petrol    Automatic   \n",
              "11        12   Ahmedabad  2016              16000    Petrol    Automatic   \n",
              "14        15  Coimbatore  2018              53190    Diesel    Automatic   \n",
              "..       ...         ...   ...                ...       ...          ...   \n",
              "168      169  Coimbatore  2017              22574    Diesel    Automatic   \n",
              "169      170      Mumbai  2018              18980    Petrol    Automatic   \n",
              "172      173       Kochi  2016              55615    Diesel    Automatic   \n",
              "173      174      Mumbai  2018               3800    Diesel    Automatic   \n",
              "174      175       Delhi  2017              14300    Diesel    Automatic   \n",
              "\n",
              "    Owner_Type     Mileage   Engine  Power  Seats   New_Price  \n",
              "2        First  14.84 kmpl  1598 CC    103      5  14.95 Lakh  \n",
              "3        First  22.48 kmpl  1995 CC    190      5  70.43 Lakh  \n",
              "9        First  23.84 kmpl  1199 CC     84      5    6.3 Lakh  \n",
              "11       First  19.16 kmpl  2487 CC    176      5  40.62 Lakh  \n",
              "14       First  18.51 kmpl  1968 CC    148      5   44.8 Lakh  \n",
              "..         ...         ...      ...    ...    ...         ...  \n",
              "168      First  21.76 kmpl  1995 CC    190      5  62.07 Lakh  \n",
              "169      First   17.0 kmpl  1591 CC    121      5  15.14 Lakh  \n",
              "172      First  22.48 kmpl  1995 CC    190      5  67.87 Lakh  \n",
              "173      First   24.3 kmpl  1248 CC     89      5  12.46 Lakh  \n",
              "174      First   28.4 kmpl  1248 CC     74      5   9.11 Lakh  \n",
              "\n",
              "[64 rows x 12 columns]"
            ],
            "text/html": [
              "\n",
              "  <div id=\"df-aa9d854d-63f8-4154-8f5a-1bbb695ebace\">\n",
              "    <div class=\"colab-df-container\">\n",
              "      <div>\n",
              "<style scoped>\n",
              "    .dataframe tbody tr th:only-of-type {\n",
              "        vertical-align: middle;\n",
              "    }\n",
              "\n",
              "    .dataframe tbody tr th {\n",
              "        vertical-align: top;\n",
              "    }\n",
              "\n",
              "    .dataframe thead th {\n",
              "        text-align: right;\n",
              "    }\n",
              "</style>\n",
              "<table border=\"1\" class=\"dataframe\">\n",
              "  <thead>\n",
              "    <tr style=\"text-align: right;\">\n",
              "      <th></th>\n",
              "      <th>ï»¿S.No</th>\n",
              "      <th>Location</th>\n",
              "      <th>Year</th>\n",
              "      <th>Kilometers_Driven</th>\n",
              "      <th>Fuel_Type</th>\n",
              "      <th>Transmission</th>\n",
              "      <th>Owner_Type</th>\n",
              "      <th>Mileage</th>\n",
              "      <th>Engine</th>\n",
              "      <th>Power</th>\n",
              "      <th>Seats</th>\n",
              "      <th>New_Price</th>\n",
              "    </tr>\n",
              "  </thead>\n",
              "  <tbody>\n",
              "    <tr>\n",
              "      <th>2</th>\n",
              "      <td>3</td>\n",
              "      <td>Mumbai</td>\n",
              "      <td>2017</td>\n",
              "      <td>13500</td>\n",
              "      <td>Petrol</td>\n",
              "      <td>Automatic</td>\n",
              "      <td>First</td>\n",
              "      <td>14.84 kmpl</td>\n",
              "      <td>1598 CC</td>\n",
              "      <td>103</td>\n",
              "      <td>5</td>\n",
              "      <td>14.95 Lakh</td>\n",
              "    </tr>\n",
              "    <tr>\n",
              "      <th>3</th>\n",
              "      <td>4</td>\n",
              "      <td>Mumbai</td>\n",
              "      <td>2012</td>\n",
              "      <td>66889</td>\n",
              "      <td>Diesel</td>\n",
              "      <td>Automatic</td>\n",
              "      <td>First</td>\n",
              "      <td>22.48 kmpl</td>\n",
              "      <td>1995 CC</td>\n",
              "      <td>190</td>\n",
              "      <td>5</td>\n",
              "      <td>70.43 Lakh</td>\n",
              "    </tr>\n",
              "    <tr>\n",
              "      <th>9</th>\n",
              "      <td>10</td>\n",
              "      <td>Mumbai</td>\n",
              "      <td>2017</td>\n",
              "      <td>14000</td>\n",
              "      <td>Petrol</td>\n",
              "      <td>Automatic</td>\n",
              "      <td>First</td>\n",
              "      <td>23.84 kmpl</td>\n",
              "      <td>1199 CC</td>\n",
              "      <td>84</td>\n",
              "      <td>5</td>\n",
              "      <td>6.3 Lakh</td>\n",
              "    </tr>\n",
              "    <tr>\n",
              "      <th>11</th>\n",
              "      <td>12</td>\n",
              "      <td>Ahmedabad</td>\n",
              "      <td>2016</td>\n",
              "      <td>16000</td>\n",
              "      <td>Petrol</td>\n",
              "      <td>Automatic</td>\n",
              "      <td>First</td>\n",
              "      <td>19.16 kmpl</td>\n",
              "      <td>2487 CC</td>\n",
              "      <td>176</td>\n",
              "      <td>5</td>\n",
              "      <td>40.62 Lakh</td>\n",
              "    </tr>\n",
              "    <tr>\n",
              "      <th>14</th>\n",
              "      <td>15</td>\n",
              "      <td>Coimbatore</td>\n",
              "      <td>2018</td>\n",
              "      <td>53190</td>\n",
              "      <td>Diesel</td>\n",
              "      <td>Automatic</td>\n",
              "      <td>First</td>\n",
              "      <td>18.51 kmpl</td>\n",
              "      <td>1968 CC</td>\n",
              "      <td>148</td>\n",
              "      <td>5</td>\n",
              "      <td>44.8 Lakh</td>\n",
              "    </tr>\n",
              "    <tr>\n",
              "      <th>...</th>\n",
              "      <td>...</td>\n",
              "      <td>...</td>\n",
              "      <td>...</td>\n",
              "      <td>...</td>\n",
              "      <td>...</td>\n",
              "      <td>...</td>\n",
              "      <td>...</td>\n",
              "      <td>...</td>\n",
              "      <td>...</td>\n",
              "      <td>...</td>\n",
              "      <td>...</td>\n",
              "      <td>...</td>\n",
              "    </tr>\n",
              "    <tr>\n",
              "      <th>168</th>\n",
              "      <td>169</td>\n",
              "      <td>Coimbatore</td>\n",
              "      <td>2017</td>\n",
              "      <td>22574</td>\n",
              "      <td>Diesel</td>\n",
              "      <td>Automatic</td>\n",
              "      <td>First</td>\n",
              "      <td>21.76 kmpl</td>\n",
              "      <td>1995 CC</td>\n",
              "      <td>190</td>\n",
              "      <td>5</td>\n",
              "      <td>62.07 Lakh</td>\n",
              "    </tr>\n",
              "    <tr>\n",
              "      <th>169</th>\n",
              "      <td>170</td>\n",
              "      <td>Mumbai</td>\n",
              "      <td>2018</td>\n",
              "      <td>18980</td>\n",
              "      <td>Petrol</td>\n",
              "      <td>Automatic</td>\n",
              "      <td>First</td>\n",
              "      <td>17.0 kmpl</td>\n",
              "      <td>1591 CC</td>\n",
              "      <td>121</td>\n",
              "      <td>5</td>\n",
              "      <td>15.14 Lakh</td>\n",
              "    </tr>\n",
              "    <tr>\n",
              "      <th>172</th>\n",
              "      <td>173</td>\n",
              "      <td>Kochi</td>\n",
              "      <td>2016</td>\n",
              "      <td>55615</td>\n",
              "      <td>Diesel</td>\n",
              "      <td>Automatic</td>\n",
              "      <td>First</td>\n",
              "      <td>22.48 kmpl</td>\n",
              "      <td>1995 CC</td>\n",
              "      <td>190</td>\n",
              "      <td>5</td>\n",
              "      <td>67.87 Lakh</td>\n",
              "    </tr>\n",
              "    <tr>\n",
              "      <th>173</th>\n",
              "      <td>174</td>\n",
              "      <td>Mumbai</td>\n",
              "      <td>2018</td>\n",
              "      <td>3800</td>\n",
              "      <td>Diesel</td>\n",
              "      <td>Automatic</td>\n",
              "      <td>First</td>\n",
              "      <td>24.3 kmpl</td>\n",
              "      <td>1248 CC</td>\n",
              "      <td>89</td>\n",
              "      <td>5</td>\n",
              "      <td>12.46 Lakh</td>\n",
              "    </tr>\n",
              "    <tr>\n",
              "      <th>174</th>\n",
              "      <td>175</td>\n",
              "      <td>Delhi</td>\n",
              "      <td>2017</td>\n",
              "      <td>14300</td>\n",
              "      <td>Diesel</td>\n",
              "      <td>Automatic</td>\n",
              "      <td>First</td>\n",
              "      <td>28.4 kmpl</td>\n",
              "      <td>1248 CC</td>\n",
              "      <td>74</td>\n",
              "      <td>5</td>\n",
              "      <td>9.11 Lakh</td>\n",
              "    </tr>\n",
              "  </tbody>\n",
              "</table>\n",
              "<p>64 rows × 12 columns</p>\n",
              "</div>\n",
              "      <button class=\"colab-df-convert\" onclick=\"convertToInteractive('df-aa9d854d-63f8-4154-8f5a-1bbb695ebace')\"\n",
              "              title=\"Convert this dataframe to an interactive table.\"\n",
              "              style=\"display:none;\">\n",
              "        \n",
              "  <svg xmlns=\"http://www.w3.org/2000/svg\" height=\"24px\"viewBox=\"0 0 24 24\"\n",
              "       width=\"24px\">\n",
              "    <path d=\"M0 0h24v24H0V0z\" fill=\"none\"/>\n",
              "    <path d=\"M18.56 5.44l.94 2.06.94-2.06 2.06-.94-2.06-.94-.94-2.06-.94 2.06-2.06.94zm-11 1L8.5 8.5l.94-2.06 2.06-.94-2.06-.94L8.5 2.5l-.94 2.06-2.06.94zm10 10l.94 2.06.94-2.06 2.06-.94-2.06-.94-.94-2.06-.94 2.06-2.06.94z\"/><path d=\"M17.41 7.96l-1.37-1.37c-.4-.4-.92-.59-1.43-.59-.52 0-1.04.2-1.43.59L10.3 9.45l-7.72 7.72c-.78.78-.78 2.05 0 2.83L4 21.41c.39.39.9.59 1.41.59.51 0 1.02-.2 1.41-.59l7.78-7.78 2.81-2.81c.8-.78.8-2.07 0-2.86zM5.41 20L4 18.59l7.72-7.72 1.47 1.35L5.41 20z\"/>\n",
              "  </svg>\n",
              "      </button>\n",
              "      \n",
              "  <style>\n",
              "    .colab-df-container {\n",
              "      display:flex;\n",
              "      flex-wrap:wrap;\n",
              "      gap: 12px;\n",
              "    }\n",
              "\n",
              "    .colab-df-convert {\n",
              "      background-color: #E8F0FE;\n",
              "      border: none;\n",
              "      border-radius: 50%;\n",
              "      cursor: pointer;\n",
              "      display: none;\n",
              "      fill: #1967D2;\n",
              "      height: 32px;\n",
              "      padding: 0 0 0 0;\n",
              "      width: 32px;\n",
              "    }\n",
              "\n",
              "    .colab-df-convert:hover {\n",
              "      background-color: #E2EBFA;\n",
              "      box-shadow: 0px 1px 2px rgba(60, 64, 67, 0.3), 0px 1px 3px 1px rgba(60, 64, 67, 0.15);\n",
              "      fill: #174EA6;\n",
              "    }\n",
              "\n",
              "    [theme=dark] .colab-df-convert {\n",
              "      background-color: #3B4455;\n",
              "      fill: #D2E3FC;\n",
              "    }\n",
              "\n",
              "    [theme=dark] .colab-df-convert:hover {\n",
              "      background-color: #434B5C;\n",
              "      box-shadow: 0px 1px 3px 1px rgba(0, 0, 0, 0.15);\n",
              "      filter: drop-shadow(0px 1px 2px rgba(0, 0, 0, 0.3));\n",
              "      fill: #FFFFFF;\n",
              "    }\n",
              "  </style>\n",
              "\n",
              "      <script>\n",
              "        const buttonEl =\n",
              "          document.querySelector('#df-aa9d854d-63f8-4154-8f5a-1bbb695ebace button.colab-df-convert');\n",
              "        buttonEl.style.display =\n",
              "          google.colab.kernel.accessAllowed ? 'block' : 'none';\n",
              "\n",
              "        async function convertToInteractive(key) {\n",
              "          const element = document.querySelector('#df-aa9d854d-63f8-4154-8f5a-1bbb695ebace');\n",
              "          const dataTable =\n",
              "            await google.colab.kernel.invokeFunction('convertToInteractive',\n",
              "                                                     [key], {});\n",
              "          if (!dataTable) return;\n",
              "\n",
              "          const docLinkHtml = 'Like what you see? Visit the ' +\n",
              "            '<a target=\"_blank\" href=https://colab.research.google.com/notebooks/data_table.ipynb>data table notebook</a>'\n",
              "            + ' to learn more about interactive tables.';\n",
              "          element.innerHTML = '';\n",
              "          dataTable['output_type'] = 'display_data';\n",
              "          await google.colab.output.renderOutput(dataTable, element);\n",
              "          const docLink = document.createElement('div');\n",
              "          docLink.innerHTML = docLinkHtml;\n",
              "          element.appendChild(docLink);\n",
              "        }\n",
              "      </script>\n",
              "    </div>\n",
              "  </div>\n",
              "  "
            ]
          },
          "metadata": {},
          "execution_count": 38
        }
      ]
    },
    {
      "cell_type": "code",
      "source": [
        "df=df.drop('Transmission',axis=1)"
      ],
      "metadata": {
        "id": "D0Xk72MwLhoB"
      },
      "execution_count": 39,
      "outputs": []
    },
    {
      "cell_type": "code",
      "source": [
        "print(df.shape)"
      ],
      "metadata": {
        "colab": {
          "base_uri": "https://localhost:8080/"
        },
        "id": "0wR3Zj_KLnox",
        "outputId": "f527d51b-9552-44de-997b-a9cda6b0bec5"
      },
      "execution_count": 40,
      "outputs": [
        {
          "output_type": "stream",
          "name": "stdout",
          "text": [
            "(182, 11)\n"
          ]
        }
      ]
    },
    {
      "cell_type": "code",
      "source": [
        "df=df[(df.Power > 50) & (df.Power < 400)]"
      ],
      "metadata": {
        "id": "EyPl-0nWNnTR"
      },
      "execution_count": 43,
      "outputs": []
    },
    {
      "cell_type": "code",
      "source": [
        "print(df.shape)"
      ],
      "metadata": {
        "colab": {
          "base_uri": "https://localhost:8080/"
        },
        "id": "i3sUPIm7RCmH",
        "outputId": "a2b180ca-9688-42e5-d797-3e565b73a1e5"
      },
      "execution_count": 44,
      "outputs": [
        {
          "output_type": "stream",
          "name": "stdout",
          "text": [
            "(180, 11)\n"
          ]
        }
      ]
    },
    {
      "cell_type": "code",
      "source": [
        "df = df[(df.Year >= 1950) & (df.Year < 2017)]"
      ],
      "metadata": {
        "id": "HuNqQxqORHH-"
      },
      "execution_count": 45,
      "outputs": []
    },
    {
      "cell_type": "code",
      "source": [
        "print(df.shape)"
      ],
      "metadata": {
        "colab": {
          "base_uri": "https://localhost:8080/"
        },
        "id": "CtYRaE5sROtl",
        "outputId": "bb3323d0-f946-48b3-afe4-aa1c95798894"
      },
      "execution_count": 46,
      "outputs": [
        {
          "output_type": "stream",
          "name": "stdout",
          "text": [
            "(87, 11)\n"
          ]
        }
      ]
    },
    {
      "cell_type": "code",
      "source": [
        "df.drop([ 'Year', 'New_Price' ], axis='columns',inplace=True)"
      ],
      "metadata": {
        "id": "ReuqV4PEe0Xq"
      },
      "execution_count": 54,
      "outputs": []
    },
    {
      "cell_type": "code",
      "source": [
        "new_df = df.copy()"
      ],
      "metadata": {
        "id": "STjEFBkOTKtv"
      },
      "execution_count": 48,
      "outputs": []
    },
    {
      "cell_type": "code",
      "source": [
        "new_df = new_df.drop_duplicates (['Fuel_Type' , 'Power', 'Kilometers_Driven', 'Owner_Type', 'Mileage'])"
      ],
      "metadata": {
        "id": "foBzwxDRTO9f"
      },
      "execution_count": 57,
      "outputs": []
    },
    {
      "cell_type": "code",
      "source": [
        "new_df.Owner_Type.replace(('First', 'Second'), ('Single', 'double'), inplace=True)"
      ],
      "metadata": {
        "id": "J9s2GJyBgGjv"
      },
      "execution_count": 60,
      "outputs": []
    },
    {
      "cell_type": "code",
      "source": [
        "new_df.to_csv(\"autos_preprocessed.csv\")"
      ],
      "metadata": {
        "id": "FJ0cXwQHhxkB"
      },
      "execution_count": 61,
      "outputs": []
    },
    {
      "cell_type": "code",
      "source": [
        "labels = ['Fuel_Type' , 'Power', 'Kilometers_Driven', 'Owner_Type', 'Mileage']"
      ],
      "metadata": {
        "id": "znjkhNxAh1Ry"
      },
      "execution_count": 62,
      "outputs": []
    },
    {
      "cell_type": "code",
      "source": [
        "mapper = {}\n",
        "for i in labels:\n",
        "    mapper[i]=LabelEncoder()\n",
        "    mapper[i].fit(new_df[i])\n",
        "    tr = mapper[i].transform(new_df[i])\n",
        "    np.save(str('classes'+i+ '.npy'), mapper[i].classes_)\n",
        "    print(i, \":\",mapper[i])\n",
        "    new_df.loc[:, i + '_labels'] = pd.Series (tr, index=new_df.index)"
      ],
      "metadata": {
        "colab": {
          "base_uri": "https://localhost:8080/"
        },
        "id": "wYeQ3VtDh-Xk",
        "outputId": "a4d0f88e-d2de-40f4-cee8-deaa001d3b47"
      },
      "execution_count": 63,
      "outputs": [
        {
          "output_type": "stream",
          "name": "stdout",
          "text": [
            "Fuel_Type : LabelEncoder()\n",
            "Power : LabelEncoder()\n",
            "Kilometers_Driven : LabelEncoder()\n",
            "Owner_Type : LabelEncoder()\n",
            "Mileage : LabelEncoder()\n"
          ]
        }
      ]
    },
    {
      "cell_type": "code",
      "source": [
        "labeled=new_df[ ['Fuel_Type'\n",
        "                 ,'Mileage'\n",
        "                 ,'Kilometers_Driven'\n",
        "                 ,'Owner_Type'\n",
        "                ]\n",
        "               + [x+\"_labels\" for x in labels]]"
      ],
      "metadata": {
        "id": "2GWbiE1RiDd3"
      },
      "execution_count": 66,
      "outputs": []
    },
    {
      "cell_type": "code",
      "source": [
        "print(labeled.columns)"
      ],
      "metadata": {
        "colab": {
          "base_uri": "https://localhost:8080/"
        },
        "id": "RI51Y2kpimNf",
        "outputId": "563d9b49-72a8-4cd7-f6cc-41368b8f0a0a"
      },
      "execution_count": 67,
      "outputs": [
        {
          "output_type": "stream",
          "name": "stdout",
          "text": [
            "Index(['Fuel_Type', 'Mileage', 'Kilometers_Driven', 'Owner_Type',\n",
            "       'Fuel_Type_labels', 'Power_labels', 'Kilometers_Driven_labels',\n",
            "       'Owner_Type_labels', 'Mileage_labels'],\n",
            "      dtype='object')\n"
          ]
        }
      ]
    },
    {
      "cell_type": "markdown",
      "source": [
        "# **Splitting Data Into Independent And Dependent Variables**"
      ],
      "metadata": {
        "id": "Kr1DepDEirUh"
      }
    },
    {
      "cell_type": "code",
      "source": [
        "Y = labeled.iloc[:,0].values\n",
        "X = labeled.iloc[:,1:].values"
      ],
      "metadata": {
        "id": "hBrEkGg8iwTS"
      },
      "execution_count": 68,
      "outputs": []
    },
    {
      "cell_type": "code",
      "source": [
        "Y=Y.reshape(-1,1)"
      ],
      "metadata": {
        "id": "MNZBHe8Qi2bO"
      },
      "execution_count": 69,
      "outputs": []
    },
    {
      "cell_type": "code",
      "source": [
        "from sklearn.model_selection import cross_val_score, train_test_split\n",
        "X_train, X_test, Y_train, Y_test = train_test_split(X, Y, test_size=0.3, random_state=3)"
      ],
      "metadata": {
        "id": "bfDAgMU6i6wW"
      },
      "execution_count": 70,
      "outputs": []
    }
  ]
}